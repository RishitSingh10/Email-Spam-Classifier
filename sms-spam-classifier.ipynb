{
 "cells": [
  {
   "cell_type": "code",
   "execution_count": 1,
   "id": "bd05e221",
   "metadata": {},
   "outputs": [],
   "source": [
    "import pandas as pd\n",
    "import numpy as np\n",
    "import matplotlib.pyplot as plt\n",
    "import seaborn as sns\n"
   ]
  },
  {
   "cell_type": "markdown",
   "id": "df10061e",
   "metadata": {},
   "source": [
    "# Get the Data"
   ]
  },
  {
   "cell_type": "markdown",
   "id": "a6a8756c",
   "metadata": {},
   "source": [
    "We'll be using a dataset from the [UCI datasets](https://archive.ics.uci.edu/dataset/228/sms+spam+collection)!\n",
    "\n",
    "The file we are using contains a collection of more than 5 thousand SMS phone messages.\n",
    "\n",
    "Let's go ahead and use rstrip() plus a list comprehension to get a list of all the lines of text messages:"
   ]
  },
  {
   "cell_type": "code",
   "execution_count": 2,
   "id": "67e6702a",
   "metadata": {},
   "outputs": [
    {
     "name": "stdout",
     "output_type": "stream",
     "text": [
      "5574\n"
     ]
    }
   ],
   "source": [
    "messages=[line.rstrip() for line in open('SMSSpamCollection')]\n",
    "print(len(messages))"
   ]
  },
  {
   "cell_type": "markdown",
   "id": "3b08f3ef",
   "metadata": {},
   "source": [
    "Let's print the first ten messages and number them using enumerate:"
   ]
  },
  {
   "cell_type": "code",
   "execution_count": 3,
   "id": "90143c2c",
   "metadata": {},
   "outputs": [
    {
     "name": "stdout",
     "output_type": "stream",
     "text": [
      "0 ham\tGo until jurong point, crazy.. Available only in bugis n great world la e buffet... Cine there got amore wat...\n",
      "\n",
      "\n",
      "1 ham\tOk lar... Joking wif u oni...\n",
      "\n",
      "\n",
      "2 spam\tFree entry in 2 a wkly comp to win FA Cup final tkts 21st May 2005. Text FA to 87121 to receive entry question(std txt rate)T&C's apply 08452810075over18's\n",
      "\n",
      "\n",
      "3 ham\tU dun say so early hor... U c already then say...\n",
      "\n",
      "\n",
      "4 ham\tNah I don't think he goes to usf, he lives around here though\n",
      "\n",
      "\n",
      "5 spam\tFreeMsg Hey there darling it's been 3 week's now and no word back! I'd like some fun you up for it still? Tb ok! XxX std chgs to send, Â£1.50 to rcv\n",
      "\n",
      "\n",
      "6 ham\tEven my brother is not like to speak with me. They treat me like aids patent.\n",
      "\n",
      "\n",
      "7 ham\tAs per your request 'Melle Melle (Oru Minnaminunginte Nurungu Vettam)' has been set as your callertune for all Callers. Press *9 to copy your friends Callertune\n",
      "\n",
      "\n",
      "8 spam\tWINNER!! As a valued network customer you have been selected to receivea Â£900 prize reward! To claim call 09061701461. Claim code KL341. Valid 12 hours only.\n",
      "\n",
      "\n",
      "9 spam\tHad your mobile 11 months or more? U R entitled to Update to the latest colour mobiles with camera for Free! Call The Mobile Update Co FREE on 08002986030\n",
      "\n",
      "\n"
     ]
    }
   ],
   "source": [
    "for message_no, message in enumerate(messages[:10]):\n",
    "    print(message_no,message)\n",
    "    print('\\n')"
   ]
  },
  {
   "cell_type": "markdown",
   "id": "101f7de6",
   "metadata": {},
   "source": [
    "Due to the spacing we can tell that this is a TSV (\"tab separated values\") file, where the first column is a label saying whether the given message is a normal message (commonly known as \"ham\") or \"spam\". The second column is the message itself.\n",
    "\n",
    "Using these labeled ham and spam examples, we'll train a machine learning model to learn to discriminate between ham/spam automatically. Then, with a trained model, we'll be able to classify arbitrary unlabeled messages as ham or spam."
   ]
  },
  {
   "cell_type": "code",
   "execution_count": 4,
   "id": "05f31396",
   "metadata": {},
   "outputs": [
    {
     "data": {
      "text/html": [
       "<div>\n",
       "<style scoped>\n",
       "    .dataframe tbody tr th:only-of-type {\n",
       "        vertical-align: middle;\n",
       "    }\n",
       "\n",
       "    .dataframe tbody tr th {\n",
       "        vertical-align: top;\n",
       "    }\n",
       "\n",
       "    .dataframe thead th {\n",
       "        text-align: right;\n",
       "    }\n",
       "</style>\n",
       "<table border=\"1\" class=\"dataframe\">\n",
       "  <thead>\n",
       "    <tr style=\"text-align: right;\">\n",
       "      <th></th>\n",
       "      <th>label</th>\n",
       "      <th>message</th>\n",
       "    </tr>\n",
       "  </thead>\n",
       "  <tbody>\n",
       "    <tr>\n",
       "      <th>0</th>\n",
       "      <td>ham</td>\n",
       "      <td>Go until jurong point, crazy.. Available only ...</td>\n",
       "    </tr>\n",
       "    <tr>\n",
       "      <th>1</th>\n",
       "      <td>ham</td>\n",
       "      <td>Ok lar... Joking wif u oni...</td>\n",
       "    </tr>\n",
       "    <tr>\n",
       "      <th>2</th>\n",
       "      <td>spam</td>\n",
       "      <td>Free entry in 2 a wkly comp to win FA Cup fina...</td>\n",
       "    </tr>\n",
       "    <tr>\n",
       "      <th>3</th>\n",
       "      <td>ham</td>\n",
       "      <td>U dun say so early hor... U c already then say...</td>\n",
       "    </tr>\n",
       "    <tr>\n",
       "      <th>4</th>\n",
       "      <td>ham</td>\n",
       "      <td>Nah I don't think he goes to usf, he lives aro...</td>\n",
       "    </tr>\n",
       "  </tbody>\n",
       "</table>\n",
       "</div>"
      ],
      "text/plain": [
       "  label                                            message\n",
       "0   ham  Go until jurong point, crazy.. Available only ...\n",
       "1   ham                      Ok lar... Joking wif u oni...\n",
       "2  spam  Free entry in 2 a wkly comp to win FA Cup fina...\n",
       "3   ham  U dun say so early hor... U c already then say...\n",
       "4   ham  Nah I don't think he goes to usf, he lives aro..."
      ]
     },
     "execution_count": 4,
     "metadata": {},
     "output_type": "execute_result"
    }
   ],
   "source": [
    "messages=pd.read_csv('SMSSpamCollection',sep='\\t',names=['label','message'])\n",
    "messages.head()"
   ]
  },
  {
   "cell_type": "markdown",
   "id": "782bf226",
   "metadata": {},
   "source": [
    "# 1. Data Cleaning"
   ]
  },
  {
   "cell_type": "code",
   "execution_count": 5,
   "id": "620ee9ac",
   "metadata": {},
   "outputs": [
    {
     "name": "stdout",
     "output_type": "stream",
     "text": [
      "<class 'pandas.core.frame.DataFrame'>\n",
      "RangeIndex: 5572 entries, 0 to 5571\n",
      "Data columns (total 2 columns):\n",
      " #   Column   Non-Null Count  Dtype \n",
      "---  ------   --------------  ----- \n",
      " 0   label    5572 non-null   object\n",
      " 1   message  5572 non-null   object\n",
      "dtypes: object(2)\n",
      "memory usage: 87.2+ KB\n"
     ]
    }
   ],
   "source": [
    "messages.info()"
   ]
  },
  {
   "cell_type": "code",
   "execution_count": 6,
   "id": "7cb68126",
   "metadata": {},
   "outputs": [
    {
     "data": {
      "text/plain": [
       "label      0\n",
       "message    0\n",
       "dtype: int64"
      ]
     },
     "execution_count": 6,
     "metadata": {},
     "output_type": "execute_result"
    }
   ],
   "source": [
    "# missing values\n",
    "messages.isnull().sum()"
   ]
  },
  {
   "cell_type": "code",
   "execution_count": 7,
   "id": "0d375e94",
   "metadata": {},
   "outputs": [
    {
     "data": {
      "text/plain": [
       "403"
      ]
     },
     "execution_count": 7,
     "metadata": {},
     "output_type": "execute_result"
    }
   ],
   "source": [
    "# duplicate values\n",
    "messages.duplicated().sum()"
   ]
  },
  {
   "cell_type": "code",
   "execution_count": 8,
   "id": "67d02a5b",
   "metadata": {},
   "outputs": [],
   "source": [
    "messages.drop_duplicates(keep='first',inplace=True)"
   ]
  },
  {
   "cell_type": "code",
   "execution_count": 9,
   "id": "ed58d45d",
   "metadata": {},
   "outputs": [
    {
     "data": {
      "text/plain": [
       "0"
      ]
     },
     "execution_count": 9,
     "metadata": {},
     "output_type": "execute_result"
    }
   ],
   "source": [
    "messages.duplicated().sum()"
   ]
  },
  {
   "cell_type": "code",
   "execution_count": 10,
   "id": "da222b3b",
   "metadata": {},
   "outputs": [
    {
     "name": "stdout",
     "output_type": "stream",
     "text": [
      "<class 'pandas.core.frame.DataFrame'>\n",
      "Index: 5169 entries, 0 to 5571\n",
      "Data columns (total 2 columns):\n",
      " #   Column   Non-Null Count  Dtype \n",
      "---  ------   --------------  ----- \n",
      " 0   label    5169 non-null   object\n",
      " 1   message  5169 non-null   object\n",
      "dtypes: object(2)\n",
      "memory usage: 121.1+ KB\n"
     ]
    }
   ],
   "source": [
    "messages.info()"
   ]
  },
  {
   "cell_type": "markdown",
   "id": "3ec5709e",
   "metadata": {},
   "source": [
    "# 2. Exploratory Data Analysis"
   ]
  },
  {
   "cell_type": "code",
   "execution_count": 11,
   "id": "3f882c42",
   "metadata": {},
   "outputs": [
    {
     "data": {
      "text/plain": [
       "label\n",
       "ham     4516\n",
       "spam     653\n",
       "Name: count, dtype: int64"
      ]
     },
     "execution_count": 11,
     "metadata": {},
     "output_type": "execute_result"
    }
   ],
   "source": [
    "messages['label'].value_counts()"
   ]
  },
  {
   "cell_type": "code",
   "execution_count": 12,
   "id": "4f7af9c1",
   "metadata": {},
   "outputs": [
    {
     "data": {
      "text/plain": [
       "<Axes: xlabel='label', ylabel='count'>"
      ]
     },
     "execution_count": 12,
     "metadata": {},
     "output_type": "execute_result"
    },
    {
     "data": {
      "image/png": "[encoded data removed]",
      "text/plain": [
       "<Figure size 640x480 with 1 Axes>"
      ]
     },
     "metadata": {},
     "output_type": "display_data"
    }
   ],
   "source": [
    "sns.countplot(data=messages,x='label')"
   ]
  },
  {
   "cell_type": "code",
   "execution_count": 13,
   "id": "15d26707",
   "metadata": {},
   "outputs": [],
   "source": [
    "# Data is imbalanced"
   ]
  },
  {
   "cell_type": "code",
   "execution_count": 14,
   "id": "ad0dd41e",
   "metadata": {},
   "outputs": [
    {
     "data": {
      "text/html": [
       "<div>\n",
       "<style scoped>\n",
       "    .dataframe tbody tr th:only-of-type {\n",
       "        vertical-align: middle;\n",
       "    }\n",
       "\n",
       "    .dataframe tbody tr th {\n",
       "        vertical-align: top;\n",
       "    }\n",
       "\n",
       "    .dataframe thead th {\n",
       "        text-align: right;\n",
       "    }\n",
       "</style>\n",
       "<table border=\"1\" class=\"dataframe\">\n",
       "  <thead>\n",
       "    <tr style=\"text-align: right;\">\n",
       "      <th></th>\n",
       "      <th>label</th>\n",
       "      <th>message</th>\n",
       "    </tr>\n",
       "  </thead>\n",
       "  <tbody>\n",
       "    <tr>\n",
       "      <th>count</th>\n",
       "      <td>5169</td>\n",
       "      <td>5169</td>\n",
       "    </tr>\n",
       "    <tr>\n",
       "      <th>unique</th>\n",
       "      <td>2</td>\n",
       "      <td>5169</td>\n",
       "    </tr>\n",
       "    <tr>\n",
       "      <th>top</th>\n",
       "      <td>ham</td>\n",
       "      <td>Go until jurong point, crazy.. Available only ...</td>\n",
       "    </tr>\n",
       "    <tr>\n",
       "      <th>freq</th>\n",
       "      <td>4516</td>\n",
       "      <td>1</td>\n",
       "    </tr>\n",
       "  </tbody>\n",
       "</table>\n",
       "</div>"
      ],
      "text/plain": [
       "       label                                            message\n",
       "count   5169                                               5169\n",
       "unique     2                                               5169\n",
       "top      ham  Go until jurong point, crazy.. Available only ...\n",
       "freq    4516                                                  1"
      ]
     },
     "execution_count": 14,
     "metadata": {},
     "output_type": "execute_result"
    }
   ],
   "source": [
    "messages.describe()"
   ]
  },
  {
   "cell_type": "code",
   "execution_count": 15,
   "id": "19675e20",
   "metadata": {},
   "outputs": [
    {
     "data": {
      "text/html": [
       "<div>\n",
       "<style scoped>\n",
       "    .dataframe tbody tr th:only-of-type {\n",
       "        vertical-align: middle;\n",
       "    }\n",
       "\n",
       "    .dataframe tbody tr th {\n",
       "        vertical-align: top;\n",
       "    }\n",
       "\n",
       "    .dataframe thead tr th {\n",
       "        text-align: left;\n",
       "    }\n",
       "\n",
       "    .dataframe thead tr:last-of-type th {\n",
       "        text-align: right;\n",
       "    }\n",
       "</style>\n",
       "<table border=\"1\" class=\"dataframe\">\n",
       "  <thead>\n",
       "    <tr>\n",
       "      <th></th>\n",
       "      <th colspan=\"4\" halign=\"left\">message</th>\n",
       "    </tr>\n",
       "    <tr>\n",
       "      <th></th>\n",
       "      <th>count</th>\n",
       "      <th>unique</th>\n",
       "      <th>top</th>\n",
       "      <th>freq</th>\n",
       "    </tr>\n",
       "    <tr>\n",
       "      <th>label</th>\n",
       "      <th></th>\n",
       "      <th></th>\n",
       "      <th></th>\n",
       "      <th></th>\n",
       "    </tr>\n",
       "  </thead>\n",
       "  <tbody>\n",
       "    <tr>\n",
       "      <th>ham</th>\n",
       "      <td>4516</td>\n",
       "      <td>4516</td>\n",
       "      <td>Go until jurong point, crazy.. Available only ...</td>\n",
       "      <td>1</td>\n",
       "    </tr>\n",
       "    <tr>\n",
       "      <th>spam</th>\n",
       "      <td>653</td>\n",
       "      <td>653</td>\n",
       "      <td>Free entry in 2 a wkly comp to win FA Cup fina...</td>\n",
       "      <td>1</td>\n",
       "    </tr>\n",
       "  </tbody>\n",
       "</table>\n",
       "</div>"
      ],
      "text/plain": [
       "      message                                                               \n",
       "        count unique                                                top freq\n",
       "label                                                                       \n",
       "ham      4516   4516  Go until jurong point, crazy.. Available only ...    1\n",
       "spam      653    653  Free entry in 2 a wkly comp to win FA Cup fina...    1"
      ]
     },
     "execution_count": 15,
     "metadata": {},
     "output_type": "execute_result"
    }
   ],
   "source": [
    "messages.groupby('label').describe()"
   ]
  },
  {
   "cell_type": "code",
   "execution_count": 16,
   "id": "45e059fc",
   "metadata": {},
   "outputs": [
    {
     "data": {
      "text/html": [
       "<div>\n",
       "<style scoped>\n",
       "    .dataframe tbody tr th:only-of-type {\n",
       "        vertical-align: middle;\n",
       "    }\n",
       "\n",
       "    .dataframe tbody tr th {\n",
       "        vertical-align: top;\n",
       "    }\n",
       "\n",
       "    .dataframe thead th {\n",
       "        text-align: right;\n",
       "    }\n",
       "</style>\n",
       "<table border=\"1\" class=\"dataframe\">\n",
       "  <thead>\n",
       "    <tr style=\"text-align: right;\">\n",
       "      <th></th>\n",
       "      <th>label</th>\n",
       "      <th>message</th>\n",
       "      <th>length</th>\n",
       "    </tr>\n",
       "  </thead>\n",
       "  <tbody>\n",
       "    <tr>\n",
       "      <th>0</th>\n",
       "      <td>ham</td>\n",
       "      <td>Go until jurong point, crazy.. Available only ...</td>\n",
       "      <td>111</td>\n",
       "    </tr>\n",
       "    <tr>\n",
       "      <th>1</th>\n",
       "      <td>ham</td>\n",
       "      <td>Ok lar... Joking wif u oni...</td>\n",
       "      <td>29</td>\n",
       "    </tr>\n",
       "    <tr>\n",
       "      <th>2</th>\n",
       "      <td>spam</td>\n",
       "      <td>Free entry in 2 a wkly comp to win FA Cup fina...</td>\n",
       "      <td>155</td>\n",
       "    </tr>\n",
       "    <tr>\n",
       "      <th>3</th>\n",
       "      <td>ham</td>\n",
       "      <td>U dun say so early hor... U c already then say...</td>\n",
       "      <td>49</td>\n",
       "    </tr>\n",
       "    <tr>\n",
       "      <th>4</th>\n",
       "      <td>ham</td>\n",
       "      <td>Nah I don't think he goes to usf, he lives aro...</td>\n",
       "      <td>61</td>\n",
       "    </tr>\n",
       "  </tbody>\n",
       "</table>\n",
       "</div>"
      ],
      "text/plain": [
       "  label                                            message  length\n",
       "0   ham  Go until jurong point, crazy.. Available only ...     111\n",
       "1   ham                      Ok lar... Joking wif u oni...      29\n",
       "2  spam  Free entry in 2 a wkly comp to win FA Cup fina...     155\n",
       "3   ham  U dun say so early hor... U c already then say...      49\n",
       "4   ham  Nah I don't think he goes to usf, he lives aro...      61"
      ]
     },
     "execution_count": 16,
     "metadata": {},
     "output_type": "execute_result"
    }
   ],
   "source": [
    "messages['length']=messages['message'].apply(len)\n",
    "messages.head()"
   ]
  },
  {
   "cell_type": "code",
   "execution_count": 17,
   "id": "454bf51f",
   "metadata": {},
   "outputs": [
    {
     "data": {
      "text/html": [
       "<div>\n",
       "<style scoped>\n",
       "    .dataframe tbody tr th:only-of-type {\n",
       "        vertical-align: middle;\n",
       "    }\n",
       "\n",
       "    .dataframe tbody tr th {\n",
       "        vertical-align: top;\n",
       "    }\n",
       "\n",
       "    .dataframe thead th {\n",
       "        text-align: right;\n",
       "    }\n",
       "</style>\n",
       "<table border=\"1\" class=\"dataframe\">\n",
       "  <thead>\n",
       "    <tr style=\"text-align: right;\">\n",
       "      <th></th>\n",
       "      <th>label</th>\n",
       "      <th>message</th>\n",
       "      <th>length</th>\n",
       "    </tr>\n",
       "  </thead>\n",
       "  <tbody>\n",
       "    <tr>\n",
       "      <th>1085</th>\n",
       "      <td>ham</td>\n",
       "      <td>For me the love should start with attraction.i...</td>\n",
       "      <td>910</td>\n",
       "    </tr>\n",
       "    <tr>\n",
       "      <th>1863</th>\n",
       "      <td>ham</td>\n",
       "      <td>The last thing i ever wanted to do was hurt yo...</td>\n",
       "      <td>790</td>\n",
       "    </tr>\n",
       "    <tr>\n",
       "      <th>2434</th>\n",
       "      <td>ham</td>\n",
       "      <td>Indians r poor but India is not a poor country...</td>\n",
       "      <td>629</td>\n",
       "    </tr>\n",
       "    <tr>\n",
       "      <th>1579</th>\n",
       "      <td>ham</td>\n",
       "      <td>How to Make a girl Happy? It's not at all diff...</td>\n",
       "      <td>611</td>\n",
       "    </tr>\n",
       "    <tr>\n",
       "      <th>2158</th>\n",
       "      <td>ham</td>\n",
       "      <td>Sad story of a Man - Last week was my b'day. M...</td>\n",
       "      <td>588</td>\n",
       "    </tr>\n",
       "  </tbody>\n",
       "</table>\n",
       "</div>"
      ],
      "text/plain": [
       "     label                                            message  length\n",
       "1085   ham  For me the love should start with attraction.i...     910\n",
       "1863   ham  The last thing i ever wanted to do was hurt yo...     790\n",
       "2434   ham  Indians r poor but India is not a poor country...     629\n",
       "1579   ham  How to Make a girl Happy? It's not at all diff...     611\n",
       "2158   ham  Sad story of a Man - Last week was my b'day. M...     588"
      ]
     },
     "execution_count": 17,
     "metadata": {},
     "output_type": "execute_result"
    }
   ],
   "source": [
    "messages.sort_values(by='length',ascending=False).head()"
   ]
  },
  {
   "cell_type": "code",
   "execution_count": 18,
   "id": "83712569",
   "metadata": {},
   "outputs": [
    {
     "data": {
      "text/plain": [
       "<Axes: xlabel='length', ylabel='Count'>"
      ]
     },
     "execution_count": 18,
     "metadata": {},
     "output_type": "execute_result"
    },
    {
     "data": {
      "image/png": "[encoded data removed]",
      "text/plain": [
       "<Figure size 640x480 with 1 Axes>"
      ]
     },
     "metadata": {},
     "output_type": "display_data"
    }
   ],
   "source": [
    "sns.histplot(x='length',data=messages,bins=50)"
   ]
  },
  {
   "cell_type": "markdown",
   "id": "dd7439da",
   "metadata": {},
   "source": [
    "The x-axis goes all the way to 1000ish, this must mean that there is some really long message!"
   ]
  },
  {
   "cell_type": "code",
   "execution_count": 19,
   "id": "1189812b",
   "metadata": {},
   "outputs": [
    {
     "data": {
      "text/plain": [
       "count    5169.000000\n",
       "mean       79.344554\n",
       "std        58.437457\n",
       "min         2.000000\n",
       "25%        36.000000\n",
       "50%        61.000000\n",
       "75%       119.000000\n",
       "max       910.000000\n",
       "Name: length, dtype: float64"
      ]
     },
     "execution_count": 19,
     "metadata": {},
     "output_type": "execute_result"
    }
   ],
   "source": [
    "messages['length'].describe()"
   ]
  },
  {
   "cell_type": "code",
   "execution_count": 20,
   "id": "3715052d",
   "metadata": {},
   "outputs": [
    {
     "data": {
      "text/plain": [
       "\"For me the love should start with attraction.i should feel that I need her every time around me.she should be the first thing which comes in my thoughts.I would start the day and end it with her.she should be there every time I dream.love will be then when my every breath has her name.my life should happen around her.my life will be named to her.I would cry for her.will give all my happiness and take all her sorrows.I will be ready to fight with anyone for her.I will be in love when I will be doing the craziest things for her.love will be when I don't have to proove anyone that my girl is the most beautiful lady on the whole planet.I will always be singing praises for her.love will be when I start up making chicken curry and end up makiing sambar.life will be the most beautiful then.will get every morning and thank god for the day because she is with me.I would like to say a lot..will tell later..\""
      ]
     },
     "execution_count": 20,
     "metadata": {},
     "output_type": "execute_result"
    }
   ],
   "source": [
    "messages[messages['length']==910]['message'].iloc[0]"
   ]
  },
  {
   "cell_type": "markdown",
   "id": "d86685e2",
   "metadata": {},
   "source": [
    "Looks like a love letter. But let's focus back on the idea of trying to see if message length is a distinguishing feature between ham and spam:"
   ]
  },
  {
   "cell_type": "code",
   "execution_count": 21,
   "id": "26f79fa8",
   "metadata": {
    "scrolled": true
   },
   "outputs": [
    {
     "data": {
      "text/plain": [
       "array([<Axes: title={'center': 'ham'}>, <Axes: title={'center': 'spam'}>],\n",
       "      dtype=object)"
      ]
     },
     "execution_count": 21,
     "metadata": {},
     "output_type": "execute_result"
    },
    {
     "data": {
      "image/png": "[encoded data removed]",
      "text/plain": [
       "<Figure size 1200x400 with 2 Axes>"
      ]
     },
     "metadata": {},
     "output_type": "display_data"
    }
   ],
   "source": [
    "messages.hist(column='length', by='label', bins=50,figsize=(12,4))"
   ]
  },
  {
   "cell_type": "markdown",
   "id": "82486ad8",
   "metadata": {},
   "source": [
    "Spam messages tend to have more characters"
   ]
  },
  {
   "cell_type": "markdown",
   "id": "9cd686b5",
   "metadata": {},
   "source": [
    "# 3. Text Pre-processing"
   ]
  },
  {
   "cell_type": "code",
   "execution_count": 22,
   "id": "83f63aa6",
   "metadata": {},
   "outputs": [
    {
     "name": "stderr",
     "output_type": "stream",
     "text": [
      "[nltk_data] Downloading package averaged_perceptron_tagger to\n",
      "[nltk_data]     C:\\Users\\RISHIT\\AppData\\Roaming\\nltk_data...\n",
      "[nltk_data]   Package averaged_perceptron_tagger is already up-to-\n",
      "[nltk_data]       date!\n",
      "[nltk_data] Downloading package wordnet to\n",
      "[nltk_data]     C:\\Users\\RISHIT\\AppData\\Roaming\\nltk_data...\n",
      "[nltk_data]   Package wordnet is already up-to-date!\n",
      "[nltk_data] Downloading package omw-1.4 to\n",
      "[nltk_data]     C:\\Users\\RISHIT\\AppData\\Roaming\\nltk_data...\n",
      "[nltk_data]   Package omw-1.4 is already up-to-date!\n"
     ]
    }
   ],
   "source": [
    "import nltk\n",
    "nltk.download('averaged_perceptron_tagger')\n",
    "nltk.download('wordnet')\n",
    "nltk.download('omw-1.4')\n",
    "\n",
    "import string\n",
    "from nltk.corpus import stopwords\n",
    "from nltk.stem import WordNetLemmatizer\n",
    "from nltk import pos_tag\n",
    "\n",
    "lemmatizer = WordNetLemmatizer()"
   ]
  },
  {
   "cell_type": "code",
   "execution_count": 23,
   "id": "907c5b77",
   "metadata": {},
   "outputs": [],
   "source": [
    "def get_wordnet_pos(tag):\n",
    "    \"\"\"\n",
    "    Map POS tag to WordNet POS tag\n",
    "    \"\"\"\n",
    "    if tag.startswith('J'):\n",
    "        return 'a'  # adjective\n",
    "    elif tag.startswith('V'):\n",
    "        return 'v'  # verb\n",
    "    elif tag.startswith('N'):\n",
    "        return 'n'  # noun\n",
    "    elif tag.startswith('R'):\n",
    "        return 'r'  # adverb\n",
    "    else:\n",
    "        return 'n'  # noun (default)\n",
    "\n",
    "def text_process(mess):\n",
    "    # remove punctuations\n",
    "    # remove stopwords\n",
    "    # lemmatization\n",
    "    # return clean message\n",
    "\n",
    "    nopunc = [char for char in mess if char not in string.punctuation]\n",
    "    nopunc = ''.join(nopunc)\n",
    "    nostop = [word.lower() for word in nopunc.split() if word.lower() not in stopwords.words('english')]\n",
    "    pos_tags = pos_tag(nostop)\n",
    "    clean_mess = [lemmatizer.lemmatize(word, pos=get_wordnet_pos(tag)) for word, tag in pos_tags]\n",
    "\n",
    "    return clean_mess"
   ]
  },
  {
   "cell_type": "markdown",
   "id": "94dbec76",
   "metadata": {},
   "source": [
    "Now let's tokenize these messages."
   ]
  },
  {
   "cell_type": "code",
   "execution_count": 24,
   "id": "b7a1e00d",
   "metadata": {},
   "outputs": [
    {
     "data": {
      "text/plain": [
       "0    [go, jurong, point, crazy, available, bugis, n...\n",
       "1                       [ok, lar, joking, wif, u, oni]\n",
       "2    [free, entry, 2, wkly, comp, win, fa, cup, fin...\n",
       "3        [u, dun, say, early, hor, u, c, already, say]\n",
       "4    [nah, dont, think, go, usf, life, around, though]\n",
       "Name: message, dtype: object"
      ]
     },
     "execution_count": 24,
     "metadata": {},
     "output_type": "execute_result"
    }
   ],
   "source": [
    "# Check to make sure its working\n",
    "messages['message'].head(5).apply(text_process)"
   ]
  },
  {
   "cell_type": "markdown",
   "id": "803de219",
   "metadata": {},
   "source": [
    "## Vectorization"
   ]
  },
  {
   "cell_type": "code",
   "execution_count": 25,
   "id": "363cd8ba",
   "metadata": {},
   "outputs": [],
   "source": [
    "from sklearn.feature_extraction.text import CountVectorizer"
   ]
  },
  {
   "cell_type": "code",
   "execution_count": 26,
   "id": "2ca8cc68",
   "metadata": {},
   "outputs": [
    {
     "name": "stdout",
     "output_type": "stream",
     "text": [
      "4500\n"
     ]
    }
   ],
   "source": [
    "bow_transformer = CountVectorizer(analyzer=text_process,max_features=4500).fit(messages['message'])\n",
    "\n",
    "# Print total number of vocab words\n",
    "print(len(bow_transformer.vocabulary_))"
   ]
  },
  {
   "cell_type": "code",
   "execution_count": 27,
   "id": "e41334ee",
   "metadata": {},
   "outputs": [],
   "source": [
    "# Transforming the entire dataset of messages into a bag of words\n",
    "messages_bow=bow_transformer.transform(messages['message'])"
   ]
  },
  {
   "cell_type": "markdown",
   "id": "63981fe4",
   "metadata": {},
   "source": [
    "## TF-IDF"
   ]
  },
  {
   "cell_type": "code",
   "execution_count": 28,
   "id": "d3baf076",
   "metadata": {},
   "outputs": [
    {
     "name": "stdout",
     "output_type": "stream",
     "text": [
      "(5169, 4500)\n"
     ]
    }
   ],
   "source": [
    "from sklearn.feature_extraction.text import TfidfTransformer\n",
    "messages_tfidf= TfidfTransformer().fit_transform(messages_bow)\n",
    "print(messages_tfidf.shape)"
   ]
  },
  {
   "cell_type": "markdown",
   "id": "a1931bd8",
   "metadata": {},
   "source": [
    "# 4. Training the model"
   ]
  },
  {
   "cell_type": "code",
   "execution_count": 29,
   "id": "7c6f9713",
   "metadata": {},
   "outputs": [],
   "source": [
    "from sklearn.svm import SVC\n",
    "from sklearn.naive_bayes import MultinomialNB, BernoulliNB\n",
    "from sklearn.tree import DecisionTreeClassifier\n",
    "from sklearn.neighbors import KNeighborsClassifier\n",
    "from sklearn.ensemble import RandomForestClassifier"
   ]
  },
  {
   "cell_type": "code",
   "execution_count": 30,
   "id": "e796c67b",
   "metadata": {},
   "outputs": [],
   "source": [
    "from sklearn.model_selection import train_test_split\n",
    "X=messages_tfidf\n",
    "y=messages['label']\n",
    "X_train, X_test, y_train, y_test = train_test_split(X, y, test_size=0.2, random_state=42)"
   ]
  },
  {
   "cell_type": "code",
   "execution_count": 31,
   "id": "48525993",
   "metadata": {},
   "outputs": [
    {
     "name": "stdout",
     "output_type": "stream",
     "text": [
      "              precision    recall  f1-score   support\n",
      "\n",
      "         ham       1.00      0.97      0.98       923\n",
      "        spam       0.79      1.00      0.88       111\n",
      "\n",
      "    accuracy                           0.97      1034\n",
      "   macro avg       0.90      0.98      0.93      1034\n",
      "weighted avg       0.98      0.97      0.97      1034\n",
      "\n",
      "[[894  29]\n",
      " [  0 111]]\n",
      "0.971953578336557\n",
      "1.0\n"
     ]
    }
   ],
   "source": [
    "from sklearn.metrics import classification_report,confusion_matrix,accuracy_score,precision_score\n",
    "mnb=MultinomialNB()\n",
    "mnb.fit(X_train,y_train)\n",
    "predictions = mnb.predict(X_test)\n",
    "print(classification_report(predictions,y_test))\n",
    "print(confusion_matrix(predictions,y_test))\n",
    "print(accuracy_score(predictions,y_test))\n",
    "print(precision_score(y_test,predictions,pos_label='spam'))"
   ]
  },
  {
   "cell_type": "code",
   "execution_count": 32,
   "id": "66a4b78d",
   "metadata": {},
   "outputs": [
    {
     "name": "stdout",
     "output_type": "stream",
     "text": [
      "              precision    recall  f1-score   support\n",
      "\n",
      "         ham       1.00      0.98      0.99       909\n",
      "        spam       0.89      0.99      0.94       125\n",
      "\n",
      "    accuracy                           0.98      1034\n",
      "   macro avg       0.94      0.99      0.96      1034\n",
      "weighted avg       0.99      0.98      0.98      1034\n",
      "\n",
      "[[893  16]\n",
      " [  1 124]]\n",
      "0.9835589941972921\n",
      "0.992\n"
     ]
    }
   ],
   "source": [
    "bnb=BernoulliNB()\n",
    "bnb.fit(X_train,y_train)\n",
    "predictions = bnb.predict(X_test)\n",
    "print(classification_report(predictions,y_test))\n",
    "print(confusion_matrix(predictions,y_test))\n",
    "print(accuracy_score(predictions,y_test))\n",
    "print(precision_score(y_test,predictions,pos_label='spam'))"
   ]
  },
  {
   "cell_type": "markdown",
   "id": "7eaddeeb",
   "metadata": {},
   "source": [
    "We'll give more importance to precision score than accuracy in this case as the data is imbalanced."
   ]
  },
  {
   "cell_type": "markdown",
   "id": "e007c671",
   "metadata": {},
   "source": [
    "## Using a pipeline "
   ]
  },
  {
   "cell_type": "code",
   "execution_count": 33,
   "id": "0a195729",
   "metadata": {},
   "outputs": [
    {
     "name": "stdout",
     "output_type": "stream",
     "text": [
      "4135 1034 5169\n"
     ]
    }
   ],
   "source": [
    "msg_train, msg_test, label_train, label_test = train_test_split(messages['message'], messages['label'], test_size=0.2, random_state=42)\n",
    "\n",
    "print(len(msg_train), len(msg_test), len(msg_train) + len(msg_test))"
   ]
  },
  {
   "cell_type": "code",
   "execution_count": 34,
   "id": "95bdfb00",
   "metadata": {},
   "outputs": [],
   "source": [
    "from sklearn.pipeline import Pipeline\n",
    "\n",
    "pipeline = Pipeline([\n",
    "    ('bow', CountVectorizer(analyzer=text_process,max_features=4500)),  # strings to token integer counts\n",
    "    ('tfidf', TfidfTransformer()),  # integer counts to weighted TF-IDF scores\n",
    "    ('classifier', BernoulliNB()),  # train on TF-IDF vectors with Naive Bayes classifier\n",
    "])"
   ]
  },
  {
   "cell_type": "code",
   "execution_count": 35,
   "id": "922ac1cc",
   "metadata": {},
   "outputs": [
    {
     "data": {
      "text/html": [
       "<style>#sk-container-id-1 {color: black;}#sk-container-id-1 pre{padding: 0;}#sk-container-id-1 div.sk-toggleable {background-color: white;}#sk-container-id-1 label.sk-toggleable__label {cursor: pointer;display: block;width: 100%;margin-bottom: 0;padding: 0.3em;box-sizing: border-box;text-align: center;}#sk-container-id-1 label.sk-toggleable__label-arrow:before {content: \"▸\";float: left;margin-right: 0.25em;color: #696969;}#sk-container-id-1 label.sk-toggleable__label-arrow:hover:before {color: black;}#sk-container-id-1 div.sk-estimator:hover label.sk-toggleable__label-arrow:before {color: black;}#sk-container-id-1 div.sk-toggleable__content {max-height: 0;max-width: 0;overflow: hidden;text-align: left;background-color: #f0f8ff;}#sk-container-id-1 div.sk-toggleable__content pre {margin: 0.2em;color: black;border-radius: 0.25em;background-color: #f0f8ff;}#sk-container-id-1 input.sk-toggleable__control:checked~div.sk-toggleable__content {max-height: 200px;max-width: 100%;overflow: auto;}#sk-container-id-1 input.sk-toggleable__control:checked~label.sk-toggleable__label-arrow:before {content: \"▾\";}#sk-container-id-1 div.sk-estimator input.sk-toggleable__control:checked~label.sk-toggleable__label {background-color: #d4ebff;}#sk-container-id-1 div.sk-label input.sk-toggleable__control:checked~label.sk-toggleable__label {background-color: #d4ebff;}#sk-container-id-1 input.sk-hidden--visually {border: 0;clip: rect(1px 1px 1px 1px);clip: rect(1px, 1px, 1px, 1px);height: 1px;margin: -1px;overflow: hidden;padding: 0;position: absolute;width: 1px;}#sk-container-id-1 div.sk-estimator {font-family: monospace;background-color: #f0f8ff;border: 1px dotted black;border-radius: 0.25em;box-sizing: border-box;margin-bottom: 0.5em;}#sk-container-id-1 div.sk-estimator:hover {background-color: #d4ebff;}#sk-container-id-1 div.sk-parallel-item::after {content: \"\";width: 100%;border-bottom: 1px solid gray;flex-grow: 1;}#sk-container-id-1 div.sk-label:hover label.sk-toggleable__label {background-color: #d4ebff;}#sk-container-id-1 div.sk-serial::before {content: \"\";position: absolute;border-left: 1px solid gray;box-sizing: border-box;top: 0;bottom: 0;left: 50%;z-index: 0;}#sk-container-id-1 div.sk-serial {display: flex;flex-direction: column;align-items: center;background-color: white;padding-right: 0.2em;padding-left: 0.2em;position: relative;}#sk-container-id-1 div.sk-item {position: relative;z-index: 1;}#sk-container-id-1 div.sk-parallel {display: flex;align-items: stretch;justify-content: center;background-color: white;position: relative;}#sk-container-id-1 div.sk-item::before, #sk-container-id-1 div.sk-parallel-item::before {content: \"\";position: absolute;border-left: 1px solid gray;box-sizing: border-box;top: 0;bottom: 0;left: 50%;z-index: -1;}#sk-container-id-1 div.sk-parallel-item {display: flex;flex-direction: column;z-index: 1;position: relative;background-color: white;}#sk-container-id-1 div.sk-parallel-item:first-child::after {align-self: flex-end;width: 50%;}#sk-container-id-1 div.sk-parallel-item:last-child::after {align-self: flex-start;width: 50%;}#sk-container-id-1 div.sk-parallel-item:only-child::after {width: 0;}#sk-container-id-1 div.sk-dashed-wrapped {border: 1px dashed gray;margin: 0 0.4em 0.5em 0.4em;box-sizing: border-box;padding-bottom: 0.4em;background-color: white;}#sk-container-id-1 div.sk-label label {font-family: monospace;font-weight: bold;display: inline-block;line-height: 1.2em;}#sk-container-id-1 div.sk-label-container {text-align: center;}#sk-container-id-1 div.sk-container {/* jupyter's `normalize.less` sets `[hidden] { display: none; }` but bootstrap.min.css set `[hidden] { display: none !important; }` so we also need the `!important` here to be able to override the default hidden behavior on the sphinx rendered scikit-learn.org. See: https://github.com/scikit-learn/scikit-learn/issues/21755 */display: inline-block !important;position: relative;}#sk-container-id-1 div.sk-text-repr-fallback {display: none;}</style><div id=\"sk-container-id-1\" class=\"sk-top-container\"><div class=\"sk-text-repr-fallback\"><pre>Pipeline(steps=[(&#x27;bow&#x27;,\n",
       "                 CountVectorizer(analyzer=&lt;function text_process at 0x0000020B86ADF060&gt;,\n",
       "                                 max_features=4500)),\n",
       "                (&#x27;tfidf&#x27;, TfidfTransformer()), (&#x27;classifier&#x27;, BernoulliNB())])</pre><b>In a Jupyter environment, please rerun this cell to show the HTML representation or trust the notebook. <br />On GitHub, the HTML representation is unable to render, please try loading this page with nbviewer.org.</b></div><div class=\"sk-container\" hidden><div class=\"sk-item sk-dashed-wrapped\"><div class=\"sk-label-container\"><div class=\"sk-label sk-toggleable\"><input class=\"sk-toggleable__control sk-hidden--visually\" id=\"sk-estimator-id-1\" type=\"checkbox\" ><label for=\"sk-estimator-id-1\" class=\"sk-toggleable__label sk-toggleable__label-arrow\">Pipeline</label><div class=\"sk-toggleable__content\"><pre>Pipeline(steps=[(&#x27;bow&#x27;,\n",
       "                 CountVectorizer(analyzer=&lt;function text_process at 0x0000020B86ADF060&gt;,\n",
       "                                 max_features=4500)),\n",
       "                (&#x27;tfidf&#x27;, TfidfTransformer()), (&#x27;classifier&#x27;, BernoulliNB())])</pre></div></div></div><div class=\"sk-serial\"><div class=\"sk-item\"><div class=\"sk-estimator sk-toggleable\"><input class=\"sk-toggleable__control sk-hidden--visually\" id=\"sk-estimator-id-2\" type=\"checkbox\" ><label for=\"sk-estimator-id-2\" class=\"sk-toggleable__label sk-toggleable__label-arrow\">CountVectorizer</label><div class=\"sk-toggleable__content\"><pre>CountVectorizer(analyzer=&lt;function text_process at 0x0000020B86ADF060&gt;,\n",
       "                max_features=4500)</pre></div></div></div><div class=\"sk-item\"><div class=\"sk-estimator sk-toggleable\"><input class=\"sk-toggleable__control sk-hidden--visually\" id=\"sk-estimator-id-3\" type=\"checkbox\" ><label for=\"sk-estimator-id-3\" class=\"sk-toggleable__label sk-toggleable__label-arrow\">TfidfTransformer</label><div class=\"sk-toggleable__content\"><pre>TfidfTransformer()</pre></div></div></div><div class=\"sk-item\"><div class=\"sk-estimator sk-toggleable\"><input class=\"sk-toggleable__control sk-hidden--visually\" id=\"sk-estimator-id-4\" type=\"checkbox\" ><label for=\"sk-estimator-id-4\" class=\"sk-toggleable__label sk-toggleable__label-arrow\">BernoulliNB</label><div class=\"sk-toggleable__content\"><pre>BernoulliNB()</pre></div></div></div></div></div></div></div>"
      ],
      "text/plain": [
       "Pipeline(steps=[('bow',\n",
       "                 CountVectorizer(analyzer=<function text_process at 0x0000020B86ADF060>,\n",
       "                                 max_features=4500)),\n",
       "                ('tfidf', TfidfTransformer()), ('classifier', BernoulliNB())])"
      ]
     },
     "execution_count": 35,
     "metadata": {},
     "output_type": "execute_result"
    }
   ],
   "source": [
    "pipeline.fit(msg_train,label_train)"
   ]
  },
  {
   "cell_type": "code",
   "execution_count": 36,
   "id": "ee85341e",
   "metadata": {},
   "outputs": [
    {
     "name": "stdout",
     "output_type": "stream",
     "text": [
      "              precision    recall  f1-score   support\n",
      "\n",
      "         ham       1.00      0.98      0.99       916\n",
      "        spam       0.84      1.00      0.91       118\n",
      "\n",
      "    accuracy                           0.98      1034\n",
      "   macro avg       0.92      0.99      0.95      1034\n",
      "weighted avg       0.98      0.98      0.98      1034\n",
      "\n",
      "[[894  22]\n",
      " [  0 118]]\n",
      "0.9787234042553191\n",
      "1.0\n"
     ]
    }
   ],
   "source": [
    "predictions = pipeline.predict(msg_test)\n",
    "print(classification_report(predictions,label_test))\n",
    "print(confusion_matrix(predictions,label_test))\n",
    "print(accuracy_score(label_test,predictions))\n",
    "print(precision_score(label_test,predictions,pos_label='spam'))"
   ]
  },
  {
   "cell_type": "code",
   "execution_count": 37,
   "id": "47b50db5",
   "metadata": {},
   "outputs": [
    {
     "data": {
      "text/plain": [
       "array(['spam'], dtype='<U4')"
      ]
     },
     "execution_count": 37,
     "metadata": {},
     "output_type": "execute_result"
    }
   ],
   "source": [
    "pipeline.predict(['Youve still not claimed the compensation you are due for the accident you had. To start the process please reply YES. To opt out reply STOP. '])"
   ]
  },
  {
   "cell_type": "code",
   "execution_count": 38,
   "id": "dc041e3b",
   "metadata": {},
   "outputs": [],
   "source": [
    "import pickle\n",
    "pickle.dump(pipeline,open('pipeline.pkl','wb'))"
   ]
  },
  {
   "cell_type": "code",
   "execution_count": 39,
   "id": "2c9ea60e",
   "metadata": {},
   "outputs": [
    {
     "name": "stdout",
     "output_type": "stream",
     "text": [
      "0 The house is on the water with a dock, a boat rolled up with a newscaster who dabbles in jazz flute behind the wheel\n",
      "\n",
      "\n",
      "1 Will purchase d stuff today and mail to you. Do you have a po box number?\n",
      "\n",
      "\n",
      "2 … we r stayin here an extra week, back next wed. How did we do in the rugby this weekend? Hi to and and , c u soon \"\n",
      "\n",
      "\n",
      "3 I'm taking derek &amp; taylor to walmart, if I'm not back by the time you're done just leave the mouse on my desk and I'll text you when priscilla's ready\n",
      "\n",
      "\n",
      "4 This message is free. Welcome to the new & improved Sex & Dogging club! To unsubscribe from this service reply STOP. msgs@150p 18 only\n",
      "\n",
      "\n",
      "5 Yeah confirmed for you staying at  that weekend\n",
      "\n",
      "\n",
      "6 You have won a Nokia 7250i. This is what you get when you win our FREE auction. To take part send Nokia to 86021 now. HG/Suite342/2Lands Row/W1JHL 16+\n",
      "\n",
      "\n",
      "7 I am in your office na.\n",
      "\n",
      "\n",
      "8 7 at esplanade.. Do ü mind giving me a lift cos i got no car today..\n",
      "\n",
      "\n",
      "9 Yeah. I got a list with only u and Joanna if I'm feeling really anti social\n",
      "\n",
      "\n"
     ]
    }
   ],
   "source": [
    "for message_no, message in enumerate(msg_test[20:30]):\n",
    "    print(message_no,message)\n",
    "    print('\\n')"
   ]
  },
  {
   "cell_type": "markdown",
   "id": "e7f7b875",
   "metadata": {},
   "source": [
    "# Handling Imbalance In the Dataset"
   ]
  },
  {
   "cell_type": "code",
   "execution_count": 40,
   "id": "a1294d20",
   "metadata": {},
   "outputs": [],
   "source": [
    "import numpy as np\n",
    "import pandas as pd\n",
    "import matplotlib.pyplot as plt\n",
    "import seaborn as sns"
   ]
  },
  {
   "cell_type": "markdown",
   "id": "a37d6dfd",
   "metadata": {},
   "source": [
    "## 1. Undersampling Majority Class "
   ]
  },
  {
   "cell_type": "code",
   "execution_count": 41,
   "id": "1c8cd7e6",
   "metadata": {},
   "outputs": [
    {
     "data": {
      "text/html": [
       "<div>\n",
       "<style scoped>\n",
       "    .dataframe tbody tr th:only-of-type {\n",
       "        vertical-align: middle;\n",
       "    }\n",
       "\n",
       "    .dataframe tbody tr th {\n",
       "        vertical-align: top;\n",
       "    }\n",
       "\n",
       "    .dataframe thead th {\n",
       "        text-align: right;\n",
       "    }\n",
       "</style>\n",
       "<table border=\"1\" class=\"dataframe\">\n",
       "  <thead>\n",
       "    <tr style=\"text-align: right;\">\n",
       "      <th></th>\n",
       "      <th>label</th>\n",
       "      <th>text</th>\n",
       "    </tr>\n",
       "  </thead>\n",
       "  <tbody>\n",
       "    <tr>\n",
       "      <th>0</th>\n",
       "      <td>ham</td>\n",
       "      <td>Go until jurong point, crazy.. Available only ...</td>\n",
       "    </tr>\n",
       "    <tr>\n",
       "      <th>1</th>\n",
       "      <td>ham</td>\n",
       "      <td>Ok lar... Joking wif u oni...</td>\n",
       "    </tr>\n",
       "    <tr>\n",
       "      <th>2</th>\n",
       "      <td>spam</td>\n",
       "      <td>Free entry in 2 a wkly comp to win FA Cup fina...</td>\n",
       "    </tr>\n",
       "    <tr>\n",
       "      <th>3</th>\n",
       "      <td>ham</td>\n",
       "      <td>U dun say so early hor... U c already then say...</td>\n",
       "    </tr>\n",
       "    <tr>\n",
       "      <th>4</th>\n",
       "      <td>ham</td>\n",
       "      <td>Nah I don't think he goes to usf, he lives aro...</td>\n",
       "    </tr>\n",
       "  </tbody>\n",
       "</table>\n",
       "</div>"
      ],
      "text/plain": [
       "  label                                               text\n",
       "0   ham  Go until jurong point, crazy.. Available only ...\n",
       "1   ham                      Ok lar... Joking wif u oni...\n",
       "2  spam  Free entry in 2 a wkly comp to win FA Cup fina...\n",
       "3   ham  U dun say so early hor... U c already then say...\n",
       "4   ham  Nah I don't think he goes to usf, he lives aro..."
      ]
     },
     "execution_count": 41,
     "metadata": {},
     "output_type": "execute_result"
    }
   ],
   "source": [
    "df = pd.read_csv('SMSSpamCollection', sep='\\t', names = ['label', 'text'])\n",
    "df.head()"
   ]
  },
  {
   "cell_type": "code",
   "execution_count": 42,
   "id": "caf3b807",
   "metadata": {},
   "outputs": [
    {
     "name": "stdout",
     "output_type": "stream",
     "text": [
      "<class 'pandas.core.frame.DataFrame'>\n",
      "RangeIndex: 5572 entries, 0 to 5571\n",
      "Data columns (total 2 columns):\n",
      " #   Column  Non-Null Count  Dtype \n",
      "---  ------  --------------  ----- \n",
      " 0   label   5572 non-null   object\n",
      " 1   text    5572 non-null   object\n",
      "dtypes: object(2)\n",
      "memory usage: 87.2+ KB\n"
     ]
    }
   ],
   "source": [
    "df.info()"
   ]
  },
  {
   "cell_type": "code",
   "execution_count": 43,
   "id": "eecdcf88",
   "metadata": {},
   "outputs": [
    {
     "data": {
      "text/plain": [
       "label    0\n",
       "text     0\n",
       "dtype: int64"
      ]
     },
     "execution_count": 43,
     "metadata": {},
     "output_type": "execute_result"
    }
   ],
   "source": [
    "df.isnull().sum()"
   ]
  },
  {
   "cell_type": "code",
   "execution_count": 44,
   "id": "7d6b2c28",
   "metadata": {},
   "outputs": [
    {
     "data": {
      "text/plain": [
       "403"
      ]
     },
     "execution_count": 44,
     "metadata": {},
     "output_type": "execute_result"
    }
   ],
   "source": [
    "df.duplicated().sum()"
   ]
  },
  {
   "cell_type": "code",
   "execution_count": 45,
   "id": "fce08edc",
   "metadata": {},
   "outputs": [
    {
     "data": {
      "text/html": [
       "<div>\n",
       "<style scoped>\n",
       "    .dataframe tbody tr th:only-of-type {\n",
       "        vertical-align: middle;\n",
       "    }\n",
       "\n",
       "    .dataframe tbody tr th {\n",
       "        vertical-align: top;\n",
       "    }\n",
       "\n",
       "    .dataframe thead th {\n",
       "        text-align: right;\n",
       "    }\n",
       "</style>\n",
       "<table border=\"1\" class=\"dataframe\">\n",
       "  <thead>\n",
       "    <tr style=\"text-align: right;\">\n",
       "      <th></th>\n",
       "      <th>label</th>\n",
       "      <th>text</th>\n",
       "    </tr>\n",
       "  </thead>\n",
       "  <tbody>\n",
       "    <tr>\n",
       "      <th>103</th>\n",
       "      <td>ham</td>\n",
       "      <td>As per your request 'Melle Melle (Oru Minnamin...</td>\n",
       "    </tr>\n",
       "    <tr>\n",
       "      <th>154</th>\n",
       "      <td>ham</td>\n",
       "      <td>As per your request 'Melle Melle (Oru Minnamin...</td>\n",
       "    </tr>\n",
       "    <tr>\n",
       "      <th>207</th>\n",
       "      <td>ham</td>\n",
       "      <td>As I entered my cabin my PA said, '' Happy B'd...</td>\n",
       "    </tr>\n",
       "    <tr>\n",
       "      <th>223</th>\n",
       "      <td>ham</td>\n",
       "      <td>Sorry, I'll call later</td>\n",
       "    </tr>\n",
       "    <tr>\n",
       "      <th>326</th>\n",
       "      <td>ham</td>\n",
       "      <td>No calls..messages..missed calls</td>\n",
       "    </tr>\n",
       "    <tr>\n",
       "      <th>...</th>\n",
       "      <td>...</td>\n",
       "      <td>...</td>\n",
       "    </tr>\n",
       "    <tr>\n",
       "      <th>5524</th>\n",
       "      <td>spam</td>\n",
       "      <td>You are awarded a SiPix Digital Camera! call 0...</td>\n",
       "    </tr>\n",
       "    <tr>\n",
       "      <th>5535</th>\n",
       "      <td>ham</td>\n",
       "      <td>I know you are thinkin malaria. But relax, chi...</td>\n",
       "    </tr>\n",
       "    <tr>\n",
       "      <th>5539</th>\n",
       "      <td>ham</td>\n",
       "      <td>Just sleeping..and surfing</td>\n",
       "    </tr>\n",
       "    <tr>\n",
       "      <th>5553</th>\n",
       "      <td>ham</td>\n",
       "      <td>Hahaha..use your brain dear</td>\n",
       "    </tr>\n",
       "    <tr>\n",
       "      <th>5558</th>\n",
       "      <td>ham</td>\n",
       "      <td>Sorry, I'll call later</td>\n",
       "    </tr>\n",
       "  </tbody>\n",
       "</table>\n",
       "<p>403 rows × 2 columns</p>\n",
       "</div>"
      ],
      "text/plain": [
       "     label                                               text\n",
       "103    ham  As per your request 'Melle Melle (Oru Minnamin...\n",
       "154    ham  As per your request 'Melle Melle (Oru Minnamin...\n",
       "207    ham  As I entered my cabin my PA said, '' Happy B'd...\n",
       "223    ham                             Sorry, I'll call later\n",
       "326    ham                   No calls..messages..missed calls\n",
       "...    ...                                                ...\n",
       "5524  spam  You are awarded a SiPix Digital Camera! call 0...\n",
       "5535   ham  I know you are thinkin malaria. But relax, chi...\n",
       "5539   ham                         Just sleeping..and surfing\n",
       "5553   ham                        Hahaha..use your brain dear\n",
       "5558   ham                             Sorry, I'll call later\n",
       "\n",
       "[403 rows x 2 columns]"
      ]
     },
     "execution_count": 45,
     "metadata": {},
     "output_type": "execute_result"
    }
   ],
   "source": [
    "df [ df.duplicated() == True ] "
   ]
  },
  {
   "cell_type": "code",
   "execution_count": 46,
   "id": "6a40f792",
   "metadata": {},
   "outputs": [
    {
     "data": {
      "text/plain": [
       "0"
      ]
     },
     "execution_count": 46,
     "metadata": {},
     "output_type": "execute_result"
    }
   ],
   "source": [
    "df.drop_duplicates(keep='first',inplace=True)\n",
    "df.duplicated().sum()"
   ]
  },
  {
   "cell_type": "code",
   "execution_count": 47,
   "id": "6f26e293",
   "metadata": {},
   "outputs": [
    {
     "data": {
      "text/plain": [
       "label\n",
       "ham     4516\n",
       "spam     653\n",
       "Name: count, dtype: int64"
      ]
     },
     "execution_count": 47,
     "metadata": {},
     "output_type": "execute_result"
    }
   ],
   "source": [
    "df['label'].value_counts()"
   ]
  },
  {
   "cell_type": "code",
   "execution_count": 48,
   "id": "c71fcdca",
   "metadata": {},
   "outputs": [
    {
     "data": {
      "text/plain": [
       "<Axes: xlabel='label', ylabel='count'>"
      ]
     },
     "execution_count": 48,
     "metadata": {},
     "output_type": "execute_result"
    },
    {
     "data": {
      "image/png": "[encoded data removed]",
      "text/plain": [
       "<Figure size 640x480 with 1 Axes>"
      ]
     },
     "metadata": {},
     "output_type": "display_data"
    }
   ],
   "source": [
    "sns.countplot(data = df, x = 'label')"
   ]
  },
  {
   "cell_type": "code",
   "execution_count": 49,
   "id": "e3c70404",
   "metadata": {},
   "outputs": [],
   "source": [
    "df_ham = df[df['label'] == 'ham']\n",
    "df_spam = df[df['label'] == 'spam']\n",
    "df_ham_under = df_ham.sample(len(df_spam))\n",
    "\n",
    "df_under = pd.concat([df_spam, df_ham_under], axis= 0)"
   ]
  },
  {
   "cell_type": "code",
   "execution_count": 50,
   "id": "c8da600b",
   "metadata": {},
   "outputs": [
    {
     "data": {
      "text/html": [
       "<div>\n",
       "<style scoped>\n",
       "    .dataframe tbody tr th:only-of-type {\n",
       "        vertical-align: middle;\n",
       "    }\n",
       "\n",
       "    .dataframe tbody tr th {\n",
       "        vertical-align: top;\n",
       "    }\n",
       "\n",
       "    .dataframe thead th {\n",
       "        text-align: right;\n",
       "    }\n",
       "</style>\n",
       "<table border=\"1\" class=\"dataframe\">\n",
       "  <thead>\n",
       "    <tr style=\"text-align: right;\">\n",
       "      <th></th>\n",
       "      <th>label</th>\n",
       "      <th>text</th>\n",
       "    </tr>\n",
       "  </thead>\n",
       "  <tbody>\n",
       "    <tr>\n",
       "      <th>0</th>\n",
       "      <td>spam</td>\n",
       "      <td>TBS/PERSOLVO. been chasing us since Sept for£3...</td>\n",
       "    </tr>\n",
       "    <tr>\n",
       "      <th>1</th>\n",
       "      <td>ham</td>\n",
       "      <td>I want to show you the world, princess :) how ...</td>\n",
       "    </tr>\n",
       "    <tr>\n",
       "      <th>2</th>\n",
       "      <td>spam</td>\n",
       "      <td>SMS SERVICES For your inclusive text credits p...</td>\n",
       "    </tr>\n",
       "    <tr>\n",
       "      <th>3</th>\n",
       "      <td>ham</td>\n",
       "      <td>Be happy there. I will come after noon</td>\n",
       "    </tr>\n",
       "    <tr>\n",
       "      <th>4</th>\n",
       "      <td>ham</td>\n",
       "      <td>And he's apparently bffs with carly quick now</td>\n",
       "    </tr>\n",
       "  </tbody>\n",
       "</table>\n",
       "</div>"
      ],
      "text/plain": [
       "  label                                               text\n",
       "0  spam  TBS/PERSOLVO. been chasing us since Sept for£3...\n",
       "1   ham  I want to show you the world, princess :) how ...\n",
       "2  spam  SMS SERVICES For your inclusive text credits p...\n",
       "3   ham             Be happy there. I will come after noon\n",
       "4   ham      And he's apparently bffs with carly quick now"
      ]
     },
     "execution_count": 50,
     "metadata": {},
     "output_type": "execute_result"
    }
   ],
   "source": [
    "df_under = df_under.sample(frac=1)\n",
    "df_under.reset_index(drop = True, inplace = True)\n",
    "df_under.head()"
   ]
  },
  {
   "cell_type": "code",
   "execution_count": 51,
   "id": "5b7cf937",
   "metadata": {},
   "outputs": [
    {
     "name": "stdout",
     "output_type": "stream",
     "text": [
      "              precision    recall  f1-score   support\n",
      "\n",
      "         ham       0.95      0.98      0.96       133\n",
      "        spam       0.98      0.95      0.96       129\n",
      "\n",
      "    accuracy                           0.96       262\n",
      "   macro avg       0.96      0.96      0.96       262\n",
      "weighted avg       0.96      0.96      0.96       262\n",
      "\n"
     ]
    }
   ],
   "source": [
    "from sklearn.model_selection import train_test_split\n",
    "from sklearn.naive_bayes import MultinomialNB\n",
    "from sklearn.feature_extraction.text import TfidfVectorizer, CountVectorizer \n",
    "from sklearn.pipeline import Pipeline\n",
    "from sklearn.metrics import classification_report\n",
    "\n",
    "\n",
    "X = df_under['text']\n",
    "y = df_under['label']\n",
    "\n",
    "X_train, X_test, y_train, y_test = train_test_split(X, y, test_size = .2)\n",
    "\n",
    "model = Pipeline([('tfidf', TfidfVectorizer()),\n",
    "                 ('clf', MultinomialNB())])\n",
    "\n",
    "model.fit(X_train, y_train)\n",
    "\n",
    "y_preds = model.predict(X_test)\n",
    "\n",
    "print(classification_report(y_test, y_preds))"
   ]
  },
  {
   "cell_type": "code",
   "execution_count": 52,
   "id": "edd17db6",
   "metadata": {},
   "outputs": [],
   "source": [
    "def clf(df):\n",
    "    \n",
    "    X = df['text']\n",
    "    y = df['label']\n",
    "\n",
    "    X_train, X_test, y_train, y_test = train_test_split(X, y, test_size = .2)\n",
    "\n",
    "    model = Pipeline([\n",
    "        ('tfidf', TfidfVectorizer()),\n",
    "        ('clf', MultinomialNB())\n",
    "    ])\n",
    "\n",
    "    model.fit(X_train, y_train)\n",
    "\n",
    "    y_preds = model.predict(X_test)\n",
    "\n",
    "    print(classification_report(y_test, y_preds))"
   ]
  },
  {
   "cell_type": "code",
   "execution_count": 53,
   "id": "5d5994cf",
   "metadata": {},
   "outputs": [
    {
     "name": "stdout",
     "output_type": "stream",
     "text": [
      "              precision    recall  f1-score   support\n",
      "\n",
      "         ham       0.96      0.97      0.96       127\n",
      "        spam       0.97      0.96      0.97       135\n",
      "\n",
      "    accuracy                           0.97       262\n",
      "   macro avg       0.97      0.97      0.97       262\n",
      "weighted avg       0.97      0.97      0.97       262\n",
      "\n"
     ]
    }
   ],
   "source": [
    "clf(df_under)"
   ]
  },
  {
   "cell_type": "markdown",
   "id": "c11294c3",
   "metadata": {},
   "source": [
    "## 2. Oversampling majority class"
   ]
  },
  {
   "cell_type": "code",
   "execution_count": 54,
   "id": "ca23fa8a",
   "metadata": {},
   "outputs": [
    {
     "data": {
      "text/html": [
       "<div>\n",
       "<style scoped>\n",
       "    .dataframe tbody tr th:only-of-type {\n",
       "        vertical-align: middle;\n",
       "    }\n",
       "\n",
       "    .dataframe tbody tr th {\n",
       "        vertical-align: top;\n",
       "    }\n",
       "\n",
       "    .dataframe thead th {\n",
       "        text-align: right;\n",
       "    }\n",
       "</style>\n",
       "<table border=\"1\" class=\"dataframe\">\n",
       "  <thead>\n",
       "    <tr style=\"text-align: right;\">\n",
       "      <th></th>\n",
       "      <th>label</th>\n",
       "      <th>text</th>\n",
       "    </tr>\n",
       "  </thead>\n",
       "  <tbody>\n",
       "    <tr>\n",
       "      <th>0</th>\n",
       "      <td>spam</td>\n",
       "      <td>25p 4 alfie Moon's Children in need song on ur...</td>\n",
       "    </tr>\n",
       "    <tr>\n",
       "      <th>1</th>\n",
       "      <td>spam</td>\n",
       "      <td>Join the UK's horniest Dogging service and u c...</td>\n",
       "    </tr>\n",
       "    <tr>\n",
       "      <th>2</th>\n",
       "      <td>spam</td>\n",
       "      <td>We tried to contact you re your reply to our o...</td>\n",
       "    </tr>\n",
       "    <tr>\n",
       "      <th>3</th>\n",
       "      <td>ham</td>\n",
       "      <td>Nan sonathaya soladha. Why boss?</td>\n",
       "    </tr>\n",
       "    <tr>\n",
       "      <th>4</th>\n",
       "      <td>ham</td>\n",
       "      <td>Dude im no longer a pisces. Im an aquarius now.</td>\n",
       "    </tr>\n",
       "  </tbody>\n",
       "</table>\n",
       "</div>"
      ],
      "text/plain": [
       "  label                                               text\n",
       "0  spam  25p 4 alfie Moon's Children in need song on ur...\n",
       "1  spam  Join the UK's horniest Dogging service and u c...\n",
       "2  spam  We tried to contact you re your reply to our o...\n",
       "3   ham                   Nan sonathaya soladha. Why boss?\n",
       "4   ham    Dude im no longer a pisces. Im an aquarius now."
      ]
     },
     "execution_count": 54,
     "metadata": {},
     "output_type": "execute_result"
    }
   ],
   "source": [
    "df_spam_over = df_spam.sample(n = len(df_ham), replace=True)\n",
    "\n",
    "df_over = pd.concat([df_spam_over, df_ham], axis = 0)\n",
    "df_over = df_over.sample(frac=1)\n",
    "df_over.reset_index(drop = True, inplace = True)\n",
    "df_over.head()"
   ]
  },
  {
   "cell_type": "code",
   "execution_count": 55,
   "id": "b8b9fc2d",
   "metadata": {},
   "outputs": [
    {
     "name": "stdout",
     "output_type": "stream",
     "text": [
      "              precision    recall  f1-score   support\n",
      "\n",
      "         ham       0.97      0.98      0.98       901\n",
      "        spam       0.98      0.97      0.98       906\n",
      "\n",
      "    accuracy                           0.98      1807\n",
      "   macro avg       0.98      0.98      0.98      1807\n",
      "weighted avg       0.98      0.98      0.98      1807\n",
      "\n"
     ]
    }
   ],
   "source": [
    "clf(df_over)"
   ]
  },
  {
   "cell_type": "markdown",
   "id": "df959e65",
   "metadata": {},
   "source": [
    "## 3. SMOTE (Synthetic Minority Over Sampling Technique)"
   ]
  },
  {
   "cell_type": "code",
   "execution_count": 56,
   "id": "f5213718",
   "metadata": {},
   "outputs": [
    {
     "name": "stdout",
     "output_type": "stream",
     "text": [
      "Collecting imbalanced-learn\n",
      "  Obtaining dependency information for imbalanced-learn from https://files.pythonhosted.org/packages/a3/9e/fbe60a768502af54563dcb59ca7856f5a8833b3ad5ada658922e1ab09b7f/imbalanced_learn-0.11.0-py3-none-any.whl.metadata\n",
      "  Downloading imbalanced_learn-0.11.0-py3-none-any.whl.metadata (8.3 kB)\n",
      "Requirement already satisfied: numpy>=1.17.3 in c:\\users\\rishit\\.conda\\envs\\myenv\\lib\\site-packages (from imbalanced-learn) (1.25.2)\n",
      "Requirement already satisfied: scipy>=1.5.0 in c:\\users\\rishit\\.conda\\envs\\myenv\\lib\\site-packages (from imbalanced-learn) (1.11.3)\n",
      "Requirement already satisfied: scikit-learn>=1.0.2 in c:\\users\\rishit\\.conda\\envs\\myenv\\lib\\site-packages (from imbalanced-learn) (1.3.1)\n",
      "Requirement already satisfied: joblib>=1.1.1 in c:\\users\\rishit\\.conda\\envs\\myenv\\lib\\site-packages (from imbalanced-learn) (1.3.2)\n",
      "Requirement already satisfied: threadpoolctl>=2.0.0 in c:\\users\\rishit\\.conda\\envs\\myenv\\lib\\site-packages (from imbalanced-learn) (3.2.0)\n",
      "Downloading imbalanced_learn-0.11.0-py3-none-any.whl (235 kB)\n",
      "   ---------------------------------------- 0.0/235.6 kB ? eta -:--:--\n",
      "   - -------------------------------------- 10.2/235.6 kB ? eta -:--:--\n",
      "   - -------------------------------------- 10.2/235.6 kB ? eta -:--:--\n",
      "   ------ -------------------------------- 41.0/235.6 kB 393.8 kB/s eta 0:00:01\n",
      "   ------------------- ------------------ 122.9/235.6 kB 798.9 kB/s eta 0:00:01\n",
      "   ---------------------------------------- 235.6/235.6 kB 1.3 MB/s eta 0:00:00\n",
      "Installing collected packages: imbalanced-learn\n",
      "Successfully installed imbalanced-learn-0.11.0\n",
      "Note: you may need to restart the kernel to use updated packages.\n"
     ]
    }
   ],
   "source": [
    "pip install imbalanced-learn"
   ]
  },
  {
   "cell_type": "code",
   "execution_count": 57,
   "id": "ebba6c86",
   "metadata": {},
   "outputs": [],
   "source": [
    "from imblearn.over_sampling import SMOTE"
   ]
  },
  {
   "cell_type": "code",
   "execution_count": 58,
   "id": "18ad9c22",
   "metadata": {},
   "outputs": [],
   "source": [
    "count_vectorizer = CountVectorizer()\n",
    "X_int_tokens = count_vectorizer.fit_transform(df['text'])\n",
    "\n",
    "X = X_int_tokens\n",
    "y = df['label']\n",
    "\n",
    "sm = SMOTE(sampling_strategy='minority')\n",
    "X_sm, y_sm = sm.fit_resample(X, y)"
   ]
  },
  {
   "cell_type": "code",
   "execution_count": 59,
   "id": "fad3f4ff",
   "metadata": {},
   "outputs": [
    {
     "name": "stdout",
     "output_type": "stream",
     "text": [
      "              precision    recall  f1-score   support\n",
      "\n",
      "         ham       0.97      0.98      0.97       908\n",
      "        spam       0.98      0.97      0.97       899\n",
      "\n",
      "    accuracy                           0.97      1807\n",
      "   macro avg       0.97      0.97      0.97      1807\n",
      "weighted avg       0.97      0.97      0.97      1807\n",
      "\n"
     ]
    }
   ],
   "source": [
    "X_train, X_test, y_train, y_test = train_test_split(X_sm, y_sm, test_size = .2)\n",
    "\n",
    "model = Pipeline([\n",
    "        ('clf', MultinomialNB())\n",
    "])\n",
    "\n",
    "model.fit(X_train, y_train)\n",
    "\n",
    "y_preds = model.predict(X_test)\n",
    "\n",
    "print(classification_report(y_test, y_preds))"
   ]
  },
  {
   "cell_type": "code",
   "execution_count": 60,
   "id": "3a730faa",
   "metadata": {},
   "outputs": [
    {
     "data": {
      "text/plain": [
       "label\n",
       "spam    3617\n",
       "ham     3608\n",
       "Name: count, dtype: int64"
      ]
     },
     "execution_count": 60,
     "metadata": {},
     "output_type": "execute_result"
    }
   ],
   "source": [
    "y_train.value_counts()"
   ]
  },
  {
   "cell_type": "markdown",
   "id": "0dbfe0d2",
   "metadata": {},
   "source": [
    "## 4. Ensemble Method (Under Sampling Majority Class)"
   ]
  },
  {
   "cell_type": "code",
   "execution_count": 61,
   "id": "14fd6d75",
   "metadata": {},
   "outputs": [
    {
     "data": {
      "text/plain": [
       "(5169, 2)"
      ]
     },
     "execution_count": 61,
     "metadata": {},
     "output_type": "execute_result"
    }
   ],
   "source": [
    "df.shape"
   ]
  },
  {
   "cell_type": "code",
   "execution_count": 62,
   "id": "4602cb2d",
   "metadata": {},
   "outputs": [
    {
     "data": {
      "text/plain": [
       "((4516, 2), (653, 2))"
      ]
     },
     "execution_count": 62,
     "metadata": {},
     "output_type": "execute_result"
    }
   ],
   "source": [
    "df_ham.shape, df_spam.shape"
   ]
  },
  {
   "cell_type": "code",
   "execution_count": 63,
   "id": "ea1f7562",
   "metadata": {},
   "outputs": [
    {
     "data": {
      "text/plain": [
       "6.915773353751915"
      ]
     },
     "execution_count": 63,
     "metadata": {},
     "output_type": "execute_result"
    }
   ],
   "source": [
    "len(df_ham)/len(df_spam)"
   ]
  },
  {
   "cell_type": "code",
   "execution_count": 64,
   "id": "dbfa30f8",
   "metadata": {},
   "outputs": [
    {
     "data": {
      "text/plain": [
       "label\n",
       "ham     3610\n",
       "spam     525\n",
       "Name: count, dtype: int64"
      ]
     },
     "execution_count": 64,
     "metadata": {},
     "output_type": "execute_result"
    }
   ],
   "source": [
    "X = df['text']\n",
    "y = df['label']\n",
    "\n",
    "X_train, X_test, y_train, y_test = train_test_split(X, y, test_size = .2)\n",
    "\n",
    "y_train.value_counts()"
   ]
  },
  {
   "cell_type": "code",
   "execution_count": 65,
   "id": "2a97d781",
   "metadata": {},
   "outputs": [],
   "source": [
    "df_train = pd.DataFrame({'text':X_train,\n",
    "                        'label':y_train})"
   ]
  },
  {
   "cell_type": "code",
   "execution_count": 66,
   "id": "0929906d",
   "metadata": {},
   "outputs": [
    {
     "data": {
      "text/plain": [
       "7.013565891472868"
      ]
     },
     "execution_count": 66,
     "metadata": {},
     "output_type": "execute_result"
    }
   ],
   "source": [
    "3619/516"
   ]
  },
  {
   "cell_type": "code",
   "execution_count": 67,
   "id": "7ab412dc",
   "metadata": {},
   "outputs": [],
   "source": [
    "# We need 7 under sampled samples of df_train to make around 7 models\n",
    "df_train_ham = df_train[df_train['label'] == 'ham']\n",
    "df_train_spam = df_train[df_train['label'] == 'spam']\n",
    "\n",
    "df_train_ham_samples = []\n",
    "\n",
    "for i in np.arange(516,3620,516):\n",
    "    df_train_ham_sample = df_train_ham[i-516:i+1]\n",
    "    df_train_ham_samples.append(df_train_ham_sample)"
   ]
  },
  {
   "cell_type": "code",
   "execution_count": 68,
   "id": "18fce209",
   "metadata": {},
   "outputs": [],
   "source": [
    "def model(df_ham, df_spam):\n",
    "    \n",
    "    df_train = pd.concat([df_ham, df_spam], axis = 0)\n",
    "    df_train = df_train.sample(frac=1)\n",
    "    X_train = df_train['text']\n",
    "    y_train = df_train['label']\n",
    "    \n",
    "    model = Pipeline([\n",
    "        ('tfidf', TfidfVectorizer()),\n",
    "        ('clf', MultinomialNB())\n",
    "    ])\n",
    "\n",
    "    model.fit(X_train, y_train)\n",
    "\n",
    "    y_preds = model.predict(X_test)\n",
    "    print(classification_report(y_test, y_preds))\n",
    "    \n",
    "    return y_preds\n",
    "\n"
   ]
  },
  {
   "cell_type": "code",
   "execution_count": 69,
   "id": "abd49d9e",
   "metadata": {},
   "outputs": [
    {
     "name": "stdout",
     "output_type": "stream",
     "text": [
      "              precision    recall  f1-score   support\n",
      "\n",
      "         ham       1.00      0.96      0.98       906\n",
      "        spam       0.76      0.97      0.85       128\n",
      "\n",
      "    accuracy                           0.96      1034\n",
      "   macro avg       0.88      0.96      0.91      1034\n",
      "weighted avg       0.97      0.96      0.96      1034\n",
      "\n",
      "              precision    recall  f1-score   support\n",
      "\n",
      "         ham       1.00      0.95      0.97       906\n",
      "        spam       0.74      0.98      0.84       128\n",
      "\n",
      "    accuracy                           0.95      1034\n",
      "   macro avg       0.87      0.96      0.91      1034\n",
      "weighted avg       0.96      0.95      0.96      1034\n",
      "\n",
      "              precision    recall  f1-score   support\n",
      "\n",
      "         ham       1.00      0.96      0.98       906\n",
      "        spam       0.76      0.97      0.85       128\n",
      "\n",
      "    accuracy                           0.96      1034\n",
      "   macro avg       0.88      0.96      0.91      1034\n",
      "weighted avg       0.97      0.96      0.96      1034\n",
      "\n",
      "              precision    recall  f1-score   support\n",
      "\n",
      "         ham       1.00      0.96      0.98       906\n",
      "        spam       0.77      0.98      0.87       128\n",
      "\n",
      "    accuracy                           0.96      1034\n",
      "   macro avg       0.89      0.97      0.92      1034\n",
      "weighted avg       0.97      0.96      0.96      1034\n",
      "\n",
      "              precision    recall  f1-score   support\n",
      "\n",
      "         ham       1.00      0.96      0.98       906\n",
      "        spam       0.77      0.97      0.86       128\n",
      "\n",
      "    accuracy                           0.96      1034\n",
      "   macro avg       0.88      0.96      0.92      1034\n",
      "weighted avg       0.97      0.96      0.96      1034\n",
      "\n",
      "              precision    recall  f1-score   support\n",
      "\n",
      "         ham       1.00      0.96      0.98       906\n",
      "        spam       0.77      0.98      0.86       128\n",
      "\n",
      "    accuracy                           0.96      1034\n",
      "   macro avg       0.88      0.97      0.92      1034\n",
      "weighted avg       0.97      0.96      0.96      1034\n",
      "\n",
      "              precision    recall  f1-score   support\n",
      "\n",
      "         ham       1.00      0.95      0.97       906\n",
      "        spam       0.74      0.98      0.84       128\n",
      "\n",
      "    accuracy                           0.95      1034\n",
      "   macro avg       0.87      0.96      0.91      1034\n",
      "weighted avg       0.96      0.95      0.96      1034\n",
      "\n"
     ]
    }
   ],
   "source": [
    "y_preds_all_models = []\n",
    "\n",
    "for i in range(0,7):\n",
    "    y_preds = model(df_train_ham_samples[i], df_train_spam)\n",
    "    y_preds_all_models.append(y_preds)"
   ]
  },
  {
   "cell_type": "code",
   "execution_count": 70,
   "id": "3e3f5b73",
   "metadata": {},
   "outputs": [],
   "source": [
    "y_preds_all_models = np.array(y_preds_all_models)"
   ]
  },
  {
   "cell_type": "code",
   "execution_count": 71,
   "id": "31548de9",
   "metadata": {},
   "outputs": [
    {
     "data": {
      "text/plain": [
       "(7, 1034)"
      ]
     },
     "execution_count": 71,
     "metadata": {},
     "output_type": "execute_result"
    }
   ],
   "source": [
    "y_preds_all_models.shape"
   ]
  },
  {
   "cell_type": "code",
   "execution_count": 72,
   "id": "a1eec983",
   "metadata": {},
   "outputs": [
    {
     "data": {
      "text/plain": [
       "array([['ham', 'ham', 'ham', ..., 'ham', 'ham', 'ham'],\n",
       "       ['ham', 'ham', 'ham', ..., 'ham', 'ham', 'ham'],\n",
       "       ['ham', 'ham', 'ham', ..., 'ham', 'ham', 'ham'],\n",
       "       ...,\n",
       "       ['ham', 'ham', 'ham', ..., 'ham', 'ham', 'ham'],\n",
       "       ['ham', 'ham', 'ham', ..., 'ham', 'ham', 'ham'],\n",
       "       ['ham', 'ham', 'ham', ..., 'ham', 'ham', 'ham']], dtype='<U4')"
      ]
     },
     "execution_count": 72,
     "metadata": {},
     "output_type": "execute_result"
    }
   ],
   "source": [
    "y_preds_all_models.transpose()"
   ]
  },
  {
   "cell_type": "code",
   "execution_count": 73,
   "id": "391691aa",
   "metadata": {},
   "outputs": [],
   "source": [
    "y_preds_final = []\n",
    "\n",
    "for i in y_preds_all_models.transpose():\n",
    "    count = 0\n",
    "    for j in i:\n",
    "        if j == 'ham':\n",
    "            count+=1\n",
    "    \n",
    "    if count>3:\n",
    "        y_preds_final.append('ham')\n",
    "    else:\n",
    "        y_preds_final.append('spam')"
   ]
  },
  {
   "cell_type": "code",
   "execution_count": 74,
   "id": "b4fc27e8",
   "metadata": {},
   "outputs": [],
   "source": [
    "y_preds_final = np.array(y_preds_final)"
   ]
  },
  {
   "cell_type": "code",
   "execution_count": 75,
   "id": "3883ccc3",
   "metadata": {},
   "outputs": [
    {
     "data": {
      "text/plain": [
       "(1034,)"
      ]
     },
     "execution_count": 75,
     "metadata": {},
     "output_type": "execute_result"
    }
   ],
   "source": [
    "y_test.shape"
   ]
  },
  {
   "cell_type": "code",
   "execution_count": 76,
   "id": "45a89d3f",
   "metadata": {},
   "outputs": [
    {
     "data": {
      "text/plain": [
       "(1034,)"
      ]
     },
     "execution_count": 76,
     "metadata": {},
     "output_type": "execute_result"
    }
   ],
   "source": [
    "y_preds_final.shape"
   ]
  },
  {
   "cell_type": "code",
   "execution_count": 77,
   "id": "a185880d",
   "metadata": {},
   "outputs": [
    {
     "name": "stdout",
     "output_type": "stream",
     "text": [
      "              precision    recall  f1-score   support\n",
      "\n",
      "         ham       1.00      0.96      0.98       906\n",
      "        spam       0.76      0.97      0.85       128\n",
      "\n",
      "    accuracy                           0.96      1034\n",
      "   macro avg       0.88      0.96      0.91      1034\n",
      "weighted avg       0.97      0.96      0.96      1034\n",
      "\n"
     ]
    }
   ],
   "source": [
    "print(classification_report(y_test, y_preds_final))"
   ]
  },
  {
   "cell_type": "code",
   "execution_count": 78,
   "id": "10daa81f",
   "metadata": {},
   "outputs": [
    {
     "data": {
      "text/plain": [
       "array([ 516, 1032, 1548, 2064, 2580, 3096, 3612])"
      ]
     },
     "execution_count": 78,
     "metadata": {},
     "output_type": "execute_result"
    }
   ],
   "source": [
    "np.arange(516,3620,516)"
   ]
  },
  {
   "cell_type": "markdown",
   "id": "e894ee8e",
   "metadata": {},
   "source": [
    "## 5. Focal Loss (Using ANN)"
   ]
  },
  {
   "cell_type": "code",
   "execution_count": 79,
   "id": "b1e8fa36",
   "metadata": {},
   "outputs": [],
   "source": [
    "import numpy as np\n",
    "import pandas as pd\n",
    "import matplotlib.pyplot as plt\n",
    "import seaborn as sns\n",
    "\n",
    "from sklearn.model_selection import train_test_split\n",
    "from sklearn.naive_bayes import MultinomialNB\n",
    "from sklearn.feature_extraction.text import TfidfVectorizer, CountVectorizer \n",
    "from sklearn.pipeline import Pipeline\n",
    "from sklearn.metrics import classification_report\n",
    "\n",
    "df = pd.read_csv('SMSSpamCollection', sep='\\t', names = ['label', 'text'])\n",
    "df.drop_duplicates()\n",
    "\n",
    "X = df['text']\n",
    "y = df['label']\n",
    "y = pd.get_dummies(y, drop_first=True)\n",
    "\n",
    "X_train, X_test, y_train, y_test = train_test_split(X, y, test_size = .2, random_state=42)"
   ]
  },
  {
   "cell_type": "code",
   "execution_count": 80,
   "id": "fdd61277",
   "metadata": {},
   "outputs": [
    {
     "data": {
      "text/plain": [
       "spam \n",
       "False    4825\n",
       "True      747\n",
       "Name: count, dtype: int64"
      ]
     },
     "execution_count": 80,
     "metadata": {},
     "output_type": "execute_result"
    }
   ],
   "source": [
    "y.value_counts()"
   ]
  },
  {
   "cell_type": "code",
   "execution_count": 81,
   "id": "ac2a16d6",
   "metadata": {},
   "outputs": [
    {
     "data": {
      "text/plain": [
       "(15.597451543431443, 171, 33.0, 86909)"
      ]
     },
     "execution_count": 81,
     "metadata": {},
     "output_type": "execute_result"
    }
   ],
   "source": [
    "num_tokens = [len(i.split()) for i in df['text']]\n",
    "np.mean(num_tokens), np.max(num_tokens), np.percentile(num_tokens, 95), np.sum(num_tokens)"
   ]
  },
  {
   "cell_type": "code",
   "execution_count": 82,
   "id": "9d076be7",
   "metadata": {},
   "outputs": [
    {
     "data": {
      "text/plain": [
       "(array([3.573e+03, 1.796e+03, 1.400e+02, 3.600e+01, 1.500e+01, 6.000e+00,\n",
       "        2.000e+00, 2.000e+00, 0.000e+00, 2.000e+00]),\n",
       " array([  1.,  18.,  35.,  52.,  69.,  86., 103., 120., 137., 154., 171.]),\n",
       " <BarContainer object of 10 artists>)"
      ]
     },
     "execution_count": 82,
     "metadata": {},
     "output_type": "execute_result"
    },
    {
     "data": {
      "image/png": "[encoded data removed]",
      "text/plain": [
       "<Figure size 640x480 with 1 Axes>"
      ]
     },
     "metadata": {},
     "output_type": "display_data"
    }
   ],
   "source": [
    "plt.hist(num_tokens)"
   ]
  },
  {
   "cell_type": "markdown",
   "id": "ab932c1a",
   "metadata": {},
   "source": [
    "### Model 1 - Using Binary Crossentropy"
   ]
  },
  {
   "cell_type": "code",
   "execution_count": 83,
   "id": "00fda640",
   "metadata": {},
   "outputs": [],
   "source": [
    "import tensorflow as tf\n",
    "from tensorflow.keras.layers.experimental.preprocessing import TextVectorization\n",
    "\n",
    "text_vectorizer = TextVectorization(max_tokens = np.sum(num_tokens),\n",
    "                                   output_sequence_length = int(np.percentile(num_tokens, 95)))\n",
    "\n",
    "text_vectorizer.adapt(X_train)\n",
    "\n",
    "model_1 = tf.keras.Sequential([\n",
    "    tf.keras.layers.Input(shape = (1,), dtype = tf.string),\n",
    "    text_vectorizer,\n",
    "    tf.keras.layers.Embedding(input_dim=np.sum(num_tokens),\n",
    "                              input_length=int(np.percentile(num_tokens, 95)),\n",
    "                              output_dim=128),\n",
    "    tf.keras.layers.GlobalMaxPool1D(),\n",
    "    tf.keras.layers.Dense(1, activation = 'sigmoid')\n",
    "])\n",
    "\n",
    "# Using just Binary Crossentropy\n",
    "model_1.compile(loss = 'binary_crossentropy',\n",
    "             optimizer = 'adam',\n",
    "             metrics = ['accuracy'])"
   ]
  },
  {
   "cell_type": "code",
   "execution_count": 84,
   "id": "719e90ed",
   "metadata": {},
   "outputs": [
    {
     "data": {
      "text/plain": [
       "<tf.Tensor: shape=(1, 33), dtype=int64, numpy=\n",
       "array([[ 12, 249,  10,   1,   1,   0,   0,   0,   0,   0,   0,   0,   0,\n",
       "          0,   0,   0,   0,   0,   0,   0,   0,   0,   0,   0,   0,   0,\n",
       "          0,   0,   0,   0,   0,   0,   0]], dtype=int64)>"
      ]
     },
     "execution_count": 84,
     "metadata": {},
     "output_type": "execute_result"
    }
   ],
   "source": [
    "text_vectorizer(['My name is Cristiano Ronaldo'])"
   ]
  },
  {
   "cell_type": "code",
   "execution_count": 85,
   "id": "642fd921",
   "metadata": {},
   "outputs": [
    {
     "data": {
      "text/plain": [
       "8509"
      ]
     },
     "execution_count": 85,
     "metadata": {},
     "output_type": "execute_result"
    }
   ],
   "source": [
    "len(text_vectorizer.get_vocabulary())"
   ]
  },
  {
   "cell_type": "code",
   "execution_count": 86,
   "id": "649c23e4",
   "metadata": {},
   "outputs": [
    {
     "name": "stdout",
     "output_type": "stream",
     "text": [
      "Model: \"sequential\"\n",
      "_________________________________________________________________\n",
      " Layer (type)                Output Shape              Param #   \n",
      "=================================================================\n",
      " text_vectorization (TextVe  (None, 33)                0         \n",
      " ctorization)                                                    \n",
      "                                                                 \n",
      " embedding (Embedding)       (None, 33, 128)           11124352  \n",
      "                                                                 \n",
      " global_max_pooling1d (Glob  (None, 128)               0         \n",
      " alMaxPooling1D)                                                 \n",
      "                                                                 \n",
      " dense (Dense)               (None, 1)                 129       \n",
      "                                                                 \n",
      "=================================================================\n",
      "Total params: 11124481 (42.44 MB)\n",
      "Trainable params: 11124481 (42.44 MB)\n",
      "Non-trainable params: 0 (0.00 Byte)\n",
      "_________________________________________________________________\n"
     ]
    }
   ],
   "source": [
    "model_1.summary()"
   ]
  },
  {
   "cell_type": "code",
   "execution_count": 89,
   "id": "175548f8",
   "metadata": {},
   "outputs": [
    {
     "name": "stdout",
     "output_type": "stream",
     "text": [
      "Epoch 1/10\n",
      "140/140 [==============================] - 22s 151ms/step - loss: 0.4829 - accuracy: 0.8432 - val_loss: 0.3520 - val_accuracy: 0.8664\n",
      "Epoch 2/10\n",
      "140/140 [==============================] - 21s 150ms/step - loss: 0.2935 - accuracy: 0.8678 - val_loss: 0.2247 - val_accuracy: 0.9040\n",
      "Epoch 3/10\n",
      "140/140 [==============================] - 21s 149ms/step - loss: 0.1654 - accuracy: 0.9470 - val_loss: 0.1266 - val_accuracy: 0.9677\n",
      "Epoch 4/10\n",
      "140/140 [==============================] - 21s 148ms/step - loss: 0.0903 - accuracy: 0.9780 - val_loss: 0.0861 - val_accuracy: 0.9794\n",
      "Epoch 5/10\n",
      "140/140 [==============================] - 21s 149ms/step - loss: 0.0552 - accuracy: 0.9883 - val_loss: 0.0675 - val_accuracy: 0.9812\n",
      "Epoch 6/10\n",
      "140/140 [==============================] - 21s 152ms/step - loss: 0.0365 - accuracy: 0.9939 - val_loss: 0.0572 - val_accuracy: 0.9865\n",
      "Epoch 7/10\n",
      "140/140 [==============================] - 23s 161ms/step - loss: 0.0253 - accuracy: 0.9957 - val_loss: 0.0510 - val_accuracy: 0.9883\n",
      "Epoch 8/10\n",
      "140/140 [==============================] - 23s 162ms/step - loss: 0.0181 - accuracy: 0.9973 - val_loss: 0.0470 - val_accuracy: 0.9892\n",
      "Epoch 9/10\n",
      "140/140 [==============================] - 22s 156ms/step - loss: 0.0133 - accuracy: 0.9982 - val_loss: 0.0443 - val_accuracy: 0.9892\n",
      "Epoch 10/10\n",
      "140/140 [==============================] - 21s 151ms/step - loss: 0.0099 - accuracy: 0.9989 - val_loss: 0.0424 - val_accuracy: 0.9892\n"
     ]
    }
   ],
   "source": [
    "history_1 = model_1.fit(X_train, y_train,\n",
    "          epochs = 10,\n",
    "          batch_size = 32,\n",
    "          validation_data = (X_test, y_test))"
   ]
  },
  {
   "cell_type": "code",
   "execution_count": 90,
   "id": "87e52bf3",
   "metadata": {},
   "outputs": [],
   "source": [
    "from sklearn.metrics import classification_report\n",
    "\n",
    "def clf_rep(ANN_model):\n",
    "    y_pred_probs = ANN_model.predict(X_test)\n",
    "    y_preds = tf.round(y_pred_probs)\n",
    "    print(classification_report(y_test, y_preds))"
   ]
  },
  {
   "cell_type": "code",
   "execution_count": 91,
   "id": "242409f3",
   "metadata": {},
   "outputs": [
    {
     "name": "stdout",
     "output_type": "stream",
     "text": [
      "35/35 [==============================] - 0s 2ms/step\n",
      "              precision    recall  f1-score   support\n",
      "\n",
      "       False       0.99      1.00      0.99       966\n",
      "        True       1.00      0.92      0.96       149\n",
      "\n",
      "    accuracy                           0.99      1115\n",
      "   macro avg       0.99      0.96      0.98      1115\n",
      "weighted avg       0.99      0.99      0.99      1115\n",
      "\n"
     ]
    }
   ],
   "source": [
    "clf_rep(model_1)"
   ]
  },
  {
   "cell_type": "code",
   "execution_count": 92,
   "id": "fd0aac58",
   "metadata": {},
   "outputs": [
    {
     "name": "stdout",
     "output_type": "stream",
     "text": [
      "35/35 [==============================] - 0s 1ms/step\n"
     ]
    }
   ],
   "source": [
    "y_pred_probs = model_1.predict(X_test)"
   ]
  },
  {
   "cell_type": "code",
   "execution_count": 93,
   "id": "ee896510",
   "metadata": {},
   "outputs": [
    {
     "name": "stdout",
     "output_type": "stream",
     "text": [
      "35/35 [==============================] - 0s 2ms/step - loss: 0.0424 - accuracy: 0.9892\n"
     ]
    },
    {
     "data": {
      "text/plain": [
       "[0.04243918135762215, 0.9892376661300659]"
      ]
     },
     "execution_count": 93,
     "metadata": {},
     "output_type": "execute_result"
    }
   ],
   "source": [
    "model_1.evaluate(X_test, y_test)"
   ]
  },
  {
   "cell_type": "markdown",
   "id": "78efb723",
   "metadata": {},
   "source": [
    "### Model 2 - Using Binary Focal Crossentropy"
   ]
  },
  {
   "cell_type": "code",
   "execution_count": 94,
   "id": "04024228",
   "metadata": {},
   "outputs": [],
   "source": [
    "model_2 = tf.keras.Sequential([\n",
    "    tf.keras.layers.Input(shape = (1,), dtype = tf.string),\n",
    "    text_vectorizer,\n",
    "    tf.keras.layers.Embedding(input_dim=np.sum(num_tokens),\n",
    "                              input_length=int(np.percentile(num_tokens, 95)),\n",
    "                              output_dim=128),\n",
    "    tf.keras.layers.GlobalMaxPool1D(),\n",
    "    tf.keras.layers.Dense(1, activation = 'sigmoid')\n",
    "])\n",
    "\n",
    "model_2.compile(loss = 'binary_focal_crossentropy',\n",
    "             optimizer = 'adam',\n",
    "             metrics = ['accuracy'])"
   ]
  },
  {
   "cell_type": "code",
   "execution_count": 95,
   "id": "55c0edf0",
   "metadata": {},
   "outputs": [
    {
     "name": "stdout",
     "output_type": "stream",
     "text": [
      "Epoch 1/10\n",
      "140/140 [==============================] - 22s 154ms/step - loss: 0.1019 - accuracy: 0.8512 - val_loss: 0.0698 - val_accuracy: 0.8664\n",
      "Epoch 2/10\n",
      "140/140 [==============================] - 20s 144ms/step - loss: 0.0470 - accuracy: 0.9325 - val_loss: 0.0307 - val_accuracy: 0.9713\n",
      "Epoch 3/10\n",
      "140/140 [==============================] - 21s 149ms/step - loss: 0.0193 - accuracy: 0.9841 - val_loss: 0.0180 - val_accuracy: 0.9839\n",
      "Epoch 4/10\n",
      "140/140 [==============================] - 21s 148ms/step - loss: 0.0096 - accuracy: 0.9937 - val_loss: 0.0137 - val_accuracy: 0.9874\n",
      "Epoch 5/10\n",
      "140/140 [==============================] - 21s 153ms/step - loss: 0.0055 - accuracy: 0.9969 - val_loss: 0.0119 - val_accuracy: 0.9883\n",
      "Epoch 6/10\n",
      "140/140 [==============================] - 21s 153ms/step - loss: 0.0034 - accuracy: 0.9982 - val_loss: 0.0108 - val_accuracy: 0.9901\n",
      "Epoch 7/10\n",
      "140/140 [==============================] - 21s 148ms/step - loss: 0.0022 - accuracy: 0.9993 - val_loss: 0.0102 - val_accuracy: 0.9901\n",
      "Epoch 8/10\n",
      "140/140 [==============================] - 20s 146ms/step - loss: 0.0015 - accuracy: 0.9998 - val_loss: 0.0099 - val_accuracy: 0.9901\n",
      "Epoch 9/10\n",
      "140/140 [==============================] - 21s 147ms/step - loss: 0.0010 - accuracy: 1.0000 - val_loss: 0.0097 - val_accuracy: 0.9901\n",
      "Epoch 10/10\n",
      "140/140 [==============================] - 21s 147ms/step - loss: 7.7438e-04 - accuracy: 1.0000 - val_loss: 0.0097 - val_accuracy: 0.9901\n"
     ]
    }
   ],
   "source": [
    "history_2 = model_2.fit(X_train, y_train,\n",
    "           epochs = 10,\n",
    "           batch_size = 32,\n",
    "           validation_data = (X_test, y_test))"
   ]
  },
  {
   "cell_type": "code",
   "execution_count": 96,
   "id": "c11a754f",
   "metadata": {},
   "outputs": [
    {
     "name": "stdout",
     "output_type": "stream",
     "text": [
      "35/35 [==============================] - 0s 1ms/step\n",
      "              precision    recall  f1-score   support\n",
      "\n",
      "       False       0.99      1.00      0.99       966\n",
      "        True       1.00      0.93      0.96       149\n",
      "\n",
      "    accuracy                           0.99      1115\n",
      "   macro avg       0.99      0.96      0.98      1115\n",
      "weighted avg       0.99      0.99      0.99      1115\n",
      "\n"
     ]
    }
   ],
   "source": [
    "clf_rep(model_2)"
   ]
  },
  {
   "cell_type": "code",
   "execution_count": null,
   "id": "fd574b30",
   "metadata": {},
   "outputs": [],
   "source": []
  }
 ],
 "metadata": {
  "kernelspec": {
   "display_name": "Python 3 (ipykernel)",
   "language": "python",
   "name": "python3"
  },
  "language_info": {
   "codemirror_mode": {
    "name": "ipython",
    "version": 3
   },
   "file_extension": ".py",
   "mimetype": "text/x-python",
   "name": "python",
   "nbconvert_exporter": "python",
   "pygments_lexer": "ipython3",
   "version": "3.11.3"
  }
 },
 "nbformat": 4,
 "nbformat_minor": 5
}
